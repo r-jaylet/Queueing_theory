{
 "cells": [
  {
   "cell_type": "markdown",
   "id": "impressed-genealogy",
   "metadata": {},
   "source": [
    "## MDI230 : Queueing theory\n",
    "\n",
    "### Simulation épidémie\n",
    "\n",
    "#### Rémi Jaylet, Augustin Laboulet, Romain Louvet"
   ]
  },
  {
   "cell_type": "markdown",
   "id": "homeless-nancy",
   "metadata": {},
   "source": [
    "### Imports"
   ]
  },
  {
   "cell_type": "code",
   "execution_count": 2,
   "id": "bored-formation",
   "metadata": {},
   "outputs": [],
   "source": [
    "import numpy as np\n",
    "import numpy.random as rd\n",
    "import matplotlib.pyplot as plt\n",
    "import seaborn as sns"
   ]
  },
  {
   "cell_type": "markdown",
   "id": "fitting-screen",
   "metadata": {},
   "source": [
    "### Definition des paramètres"
   ]
  },
  {
   "cell_type": "code",
   "execution_count": null,
   "id": "hollow-enforcement",
   "metadata": {},
   "outputs": [],
   "source": []
  }
 ],
 "metadata": {
  "kernelspec": {
   "display_name": "Python 3",
   "language": "python",
   "name": "python3"
  },
  "language_info": {
   "codemirror_mode": {
    "name": "ipython",
    "version": 3
   },
   "file_extension": ".py",
   "mimetype": "text/x-python",
   "name": "python",
   "nbconvert_exporter": "python",
   "pygments_lexer": "ipython3",
   "version": "3.7.3"
  }
 },
 "nbformat": 4,
 "nbformat_minor": 5
}
